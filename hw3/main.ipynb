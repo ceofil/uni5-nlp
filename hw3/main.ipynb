{
 "cells": [
  {
   "cell_type": "code",
   "execution_count": 30,
   "metadata": {},
   "outputs": [],
   "source": [
    "from datasets import load_dataset\n",
    "from nltk.util import ngrams\n",
    "import nltk"
   ]
  },
  {
   "cell_type": "code",
   "execution_count": null,
   "metadata": {},
   "outputs": [],
   "source": [
    "ronec = load_dataset(\"ronec\")"
   ]
  },
  {
   "cell_type": "code",
   "execution_count": 61,
   "metadata": {},
   "outputs": [
    {
     "data": {
      "text/plain": [
       "FreqDist({('la', 'data', 'de'): 14, ('în', 'timp', 'ce'): 11, ('de', 'la', 'ora'): 11, ('cu', 'privire', 'la'): 9, ('a', 'fost', 'numit'): 8, ('de', 'până', 'la'): 8, ('în', 'proba', 'de'): 8, ('a', 'fost', 'un'): 7, ('nu', 'a', 'fost'): 7, ('a', 'avut', 'loc'): 7, ...})"
      ]
     },
     "execution_count": 61,
     "metadata": {},
     "output_type": "execute_result"
    }
   ],
   "source": [
    "unique_tokens = set()\n",
    "max_unique_words = 10_000\n",
    "n = 3\n",
    "all_ngrams = []\n",
    "for data in ronec['train']:\n",
    "    alnum_tokens = [token.lower() for token in data['tokens'] if token.isalnum()]\n",
    "    unique_tokens.update(alnum_tokens)\n",
    "    all_ngrams.extend(list(ngrams(alnum_tokens, n)))\n",
    "    if len(unique_tokens) >= max_unique_words:\n",
    "        break\n",
    "\n",
    "nltk.FreqDist(all_ngrams)"
   ]
  },
  {
   "cell_type": "code",
   "execution_count": 72,
   "metadata": {},
   "outputs": [
    {
     "data": {
      "text/plain": [
       "[(('la', 'data', 'de'), 0.00025074806506076463),\n",
       " (('de', 'la', 'ora'), 0.0002005984520486117),\n",
       " (('în', 'timp', 'ce'), 0.0002005984520486117),\n",
       " (('cu', 'privire', 'la'), 0.0001671653767071764),\n",
       " (('în', 'proba', 'de'), 0.00015044883903645877),\n",
       " (('de', 'până', 'la'), 0.00015044883903645877),\n",
       " (('a', 'fost', 'numit'), 0.00015044883903645877),\n",
       " (('cea', 'mai', 'mare'), 0.00013373230136574113),\n",
       " (('după', 'ce', 'a'), 0.00013373230136574113),\n",
       " (('a', 'fost', 'un'), 0.00013373230136574113)]"
      ]
     },
     "execution_count": 72,
     "metadata": {},
     "output_type": "execute_result"
    }
   ],
   "source": [
    "unique_ngrams = set(all_ngrams)\n",
    "for ngram in all_ngrams:\n",
    "    if ngram not in unique_ngrams:\n",
    "        unique_ngrams.add(ngram)\n",
    "\n",
    "\n",
    "ngram_prob = [\n",
    "    (\n",
    "        ngram, \n",
    "        (all_ngrams.count(ngram) + 1) / (len(ngram)-1+len(unique_ngrams)) \n",
    "    )\n",
    "    for ngram in unique_ngrams\n",
    "]\n",
    "\n",
    "ngram_prob.sort(key=lambda n:-n[1])\n",
    "ngram_prob[:10]"
   ]
  },
  {
   "cell_type": "code",
   "execution_count": 76,
   "metadata": {},
   "outputs": [
    {
     "data": {
      "text/plain": [
       "[(('de', 'la', 'ora'), 0.0002005984520486117),\n",
       " (('de', 'la', 'data'), 0.00010029922602430585),\n",
       " (('de', 'la', 'viena'), 6.686615068287057e-05),\n",
       " (('de', 'la', 'iași'), 6.686615068287057e-05),\n",
       " (('de', 'la', 'o'), 5.0149613012152924e-05)]"
      ]
     },
     "execution_count": 76,
     "metadata": {},
     "output_type": "execute_result"
    }
   ],
   "source": [
    "prior_input_str = 'Vine de la'\n",
    "prior_input = prior_input_str.lower().split(' ')[-(n-1):]\n",
    "matching = [ngram for ngram in ngram_prob if tuple(prior_input) == tuple(ngram[0][:-1])]\n",
    "new_text_prob = matching[:5]\n",
    "new_text_prob\n"
   ]
  }
 ],
 "metadata": {
  "kernelspec": {
   "display_name": "Python 3.9.12 ('base')",
   "language": "python",
   "name": "python3"
  },
  "language_info": {
   "codemirror_mode": {
    "name": "ipython",
    "version": 3
   },
   "file_extension": ".py",
   "mimetype": "text/x-python",
   "name": "python",
   "nbconvert_exporter": "python",
   "pygments_lexer": "ipython3",
   "version": "3.9.12"
  },
  "orig_nbformat": 4,
  "vscode": {
   "interpreter": {
    "hash": "4c8c64fe6394f8c6d5b8a5193d3a141afbb97a1d54d6543aa8fb332fd075e3a0"
   }
  }
 },
 "nbformat": 4,
 "nbformat_minor": 2
}
